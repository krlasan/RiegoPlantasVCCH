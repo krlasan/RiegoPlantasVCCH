{
 "cells": [
  {
   "cell_type": "code",
   "execution_count": 11,
   "id": "547780dd",
   "metadata": {},
   "outputs": [],
   "source": [
    "from tkinter import*\n",
    "import tkinter as tk\n",
    "from tkinter.ttk import Button\n",
    "from csv import *\n",
    "import csv\n",
    "import os"
   ]
  },
  {
   "cell_type": "code",
   "execution_count": 12,
   "id": "6fda2b7c",
   "metadata": {},
   "outputs": [
    {
     "data": {
      "text/plain": [
       "''"
      ]
     },
     "execution_count": 12,
     "metadata": {},
     "output_type": "execute_result"
    }
   ],
   "source": [
    "root = tk.Tk() #principal ventana\n",
    "root.title(\"Plantas comestibles\") #título principal\n",
    "root.geometry(\"400x300\")# Tamaño"
   ]
  },
  {
   "cell_type": "code",
   "execution_count": 13,
   "id": "c161bc8e",
   "metadata": {},
   "outputs": [],
   "source": [
    "def enter_data(): #función que captura los datos \n",
    "    \n",
    " \n",
    "    with open(\"plantas.csv\", mode = \"a\", newline = \"\") as file: #Crea csv archivo\n",
    "            fieldnames = [\"Nombre del alumno/a:\", \"Id de la planta:\", \"Fecha:\", \"Numero de brotes:\", \"Cantidad de agua:\"]\n",
    "            writer1 = csv.writer(file, fieldnames, quoting=csv.QUOTE_MINIMAL)\n",
    "             \n",
    "            writer2 = writer1.writerow([entrada1.get(), entrada2.get(),\n",
    "                 entrada3.get(), entrada4.get(),\n",
    "                 check_button1_var.get(), check_button2_var.get(),\n",
    "                 check_button3_var.get()]) \n",
    "            \n",
    "            \n",
    "           "
   ]
  },
  {
   "cell_type": "code",
   "execution_count": 14,
   "id": "190a597e",
   "metadata": {},
   "outputs": [],
   "source": [
    "label1 = Label(root, text = \"Nombre\")\n",
    "label1.place(x = 10, y = 10)\n",
    "entrada1 = Entry(root)\n",
    "entrada1.place(x =170, y = 10)"
   ]
  },
  {
   "cell_type": "code",
   "execution_count": 15,
   "id": "c32941f4",
   "metadata": {},
   "outputs": [],
   "source": [
    "label2 = Label(root, text = \"Id Planta\")\n",
    "label2.place(x = 10, y = 40)\n",
    "entrada2 = Entry(root)\n",
    "entrada2.place(x =170, y = 40)"
   ]
  },
  {
   "cell_type": "code",
   "execution_count": 16,
   "id": "768a9dcd",
   "metadata": {},
   "outputs": [],
   "source": [
    "label3 = Label(root, text = \"Cantidad de agua\")#Cuadros de relleno\n",
    "label3.place(x = 10, y = 70)\n",
    "\n",
    "check_button1_var = tk.StringVar(value = False)\n",
    "check_button1 = Checkbutton(root, text = \"150 ml\", variable = check_button1_var, onvalue = \"150\")\n",
    "check_button1.place(x=10, y=90 )\n",
    "\n",
    "check_button2_var = tk.StringVar(value = False)\n",
    "check_button2= Checkbutton(root, text = \"100 ml\", variable = check_button2_var, onvalue = \"100\")\n",
    "check_button2.place(x=80, y=90 )\n",
    "\n",
    "check_button3_var = tk.StringVar(value = False)\n",
    "check_button3= Checkbutton(root, text = \"50 ml\", variable = check_button3_var, onvalue = \"50\")\n",
    "check_button3.place(x=145, y=90 )"
   ]
  },
  {
   "cell_type": "code",
   "execution_count": 17,
   "id": "1188539e",
   "metadata": {},
   "outputs": [],
   "source": [
    "label4 = Label(root, text = \"Fecha\")\n",
    "label4.place(x = 10, y = 120)\n",
    "entrada3 = Entry(root)\n",
    "entrada3.place(x =170, y = 120)"
   ]
  },
  {
   "cell_type": "code",
   "execution_count": 18,
   "id": "e022b29a",
   "metadata": {},
   "outputs": [],
   "source": [
    "label5 = Label(root, text = \"Número de brotes\")\n",
    "label5.place(x = 10, y = 150)\n",
    "entrada4 = Entry(root)\n",
    "entrada4.place(x =170, y = 150)"
   ]
  },
  {
   "cell_type": "code",
   "execution_count": 19,
   "id": "1fe205b2",
   "metadata": {},
   "outputs": [],
   "source": [
    "boton = Button(root, text = \"Guardar\", command = enter_data) #genera archivo en def\n",
    "boton.place(x=300, y=250)"
   ]
  },
  {
   "cell_type": "code",
   "execution_count": 20,
   "id": "3cb7cd0e",
   "metadata": {},
   "outputs": [],
   "source": [
    "root.mainloop()"
   ]
  },
  {
   "cell_type": "code",
   "execution_count": null,
   "id": "7bc6a31f",
   "metadata": {},
   "outputs": [],
   "source": []
  }
 ],
 "metadata": {
  "kernelspec": {
   "display_name": "Python 3 (ipykernel)",
   "language": "python",
   "name": "python3"
  },
  "language_info": {
   "codemirror_mode": {
    "name": "ipython",
    "version": 3
   },
   "file_extension": ".py",
   "mimetype": "text/x-python",
   "name": "python",
   "nbconvert_exporter": "python",
   "pygments_lexer": "ipython3",
   "version": "3.10.9"
  }
 },
 "nbformat": 4,
 "nbformat_minor": 5
}
